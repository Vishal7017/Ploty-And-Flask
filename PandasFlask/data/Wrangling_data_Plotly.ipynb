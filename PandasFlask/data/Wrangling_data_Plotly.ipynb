{
 "cells": [
  {
   "cell_type": "code",
   "execution_count": 1,
   "id": "5df5dae1",
   "metadata": {},
   "outputs": [],
   "source": [
    "import pandas as pd"
   ]
  },
  {
   "cell_type": "code",
   "execution_count": 2,
   "id": "cd071db6",
   "metadata": {},
   "outputs": [],
   "source": [
    "df = pd.read_csv('API_SP.RUR.TOTL.ZS_DS2_en_csv_v2_2446153.csv', skiprows=4)"
   ]
  },
  {
   "cell_type": "code",
   "execution_count": 3,
   "id": "e4de04a1",
   "metadata": {},
   "outputs": [],
   "source": [
    "df = df[['Country Name', '1990', '2015']]\n",
    "countrylist = ['United States', 'China', 'Japan', 'Germany', 'United Kingdom', 'India', 'France', 'Brazil', 'Italy', 'Canada']\n",
    "df = df[df['Country Name'].isin(countrylist)]"
   ]
  },
  {
   "cell_type": "code",
   "execution_count": 5,
   "id": "292a4b85",
   "metadata": {},
   "outputs": [],
   "source": [
    "df_melt = df.melt(id_vars='Country Name', value_vars = ['1990', '2015'])\n",
    "df_melt.columns = ['country', 'year', 'variable']\n",
    "df_melt['year'] = df_melt['year'].astype('datetime64[ns]').dt.year"
   ]
  },
  {
   "cell_type": "code",
   "execution_count": 6,
   "id": "67ebd4fc",
   "metadata": {},
   "outputs": [],
   "source": [
    "df_melt.columns = ['country', 'year', 'percentrural']"
   ]
  },
  {
   "cell_type": "code",
   "execution_count": 7,
   "id": "40c9a911",
   "metadata": {},
   "outputs": [],
   "source": [
    "df_melt.sort_values('percentrural', ascending=False, inplace=True)"
   ]
  },
  {
   "cell_type": "code",
   "execution_count": 8,
   "id": "8b6c2cc4",
   "metadata": {},
   "outputs": [
    {
     "name": "stdout",
     "output_type": "stream",
     "text": [
      "United States [1990, 2015] [24.7, 18.329]\n",
      "China [1990, 2015] [73.558, 44.5]\n",
      "Japan [1990, 2015] [22.660999999999998, 8.619]\n",
      "Germany [1990, 2015] [26.881999999999998, 22.8]\n",
      "United Kingdom [1990, 2015] [21.86, 17.374000000000002]\n",
      "India [1990, 2015] [74.453, 67.223]\n",
      "France [1990, 2015] [25.944000000000003, 20.345]\n",
      "Brazil [1990, 2015] [26.078000000000003, 14.23]\n",
      "Italy [1990, 2015] [33.274, 30.435]\n",
      "Canada [1990, 2015] [23.418000000000003, 18.741]\n"
     ]
    }
   ],
   "source": [
    "data = []\n",
    "for country in countrylist:\n",
    "    x_val = df_melt[df_melt['country'] == country].year.tolist()\n",
    "    y_val = df_melt[df_melt['country'] == country].percentrural.tolist()\n",
    "    data.append((country, x_val, y_val))\n",
    "    print(country, x_val, y_val)\n"
   ]
  },
  {
   "cell_type": "code",
   "execution_count": null,
   "id": "031f2499",
   "metadata": {},
   "outputs": [],
   "source": []
  }
 ],
 "metadata": {
  "kernelspec": {
   "display_name": "Python 3",
   "language": "python",
   "name": "python3"
  },
  "language_info": {
   "codemirror_mode": {
    "name": "ipython",
    "version": 3
   },
   "file_extension": ".py",
   "mimetype": "text/x-python",
   "name": "python",
   "nbconvert_exporter": "python",
   "pygments_lexer": "ipython3",
   "version": "3.8.8"
  }
 },
 "nbformat": 4,
 "nbformat_minor": 5
}
